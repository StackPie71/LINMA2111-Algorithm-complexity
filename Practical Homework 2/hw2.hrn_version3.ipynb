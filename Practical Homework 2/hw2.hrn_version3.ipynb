{
 "cells": [
  {
   "cell_type": "markdown",
   "metadata": {},
   "source": [
    "Please, fill with your data:\n",
    "\n",
    "\n",
    "| Student | ID |\n",
    "|--- | --|\n",
    "|student 1 | UCL-Id1|\n",
    "|student 2 | UCL-Id2|"
   ]
  },
  {
   "cell_type": "markdown",
   "metadata": {},
   "source": [
    "# Practical Homework 2 --- The Las Vegas $n$-Queens\n",
    "\n",
    "In this homework we are going to analyse the Las Vegas $n$-Queens algorithm.\n",
    "Imagine to have a $n\\times n$ chessboard and exactly $n$ queens that we want to place on the board **safely**: they should be unable to attack each other (queens can attack other pieces horizontally, vertically and diagonally at any distance).\n",
    "\n",
    "In order to find the **safe** state we have a list of strategies:\n",
    "\n",
    "- **backtrack:** the quest starts at a given state and enumerates all the states one after another.\n",
    "- **random:** at each iteration a random state is generated from zero"
   ]
  },
  {
   "cell_type": "code",
   "execution_count": 1,
   "metadata": {},
   "outputs": [
    {
     "name": "stdout",
     "output_type": "stream",
     "text": [
      "│██  ██  ██  ██  │\n",
      "│  ██  ██  ██  ██│\n",
      "│██  ██  ██  ██  │\n",
      "│  ██  ██  ██  ██│\n",
      "│██  ██  ██  ██  │\n",
      "│  ██  ██  ██  ██│\n",
      "│██  ██  ██  ██  │\n",
      "│  ██  ██  ██  ██│\n"
     ]
    }
   ],
   "source": [
    "def print_board(size=8):\n",
    "    for i in range(size):\n",
    "        print('│', end='')\n",
    "        for j in range(size // 2):\n",
    "            if i%2 == 0:\n",
    "                print('██  ', end='')\n",
    "            else:\n",
    "                print('  ██', end='')\n",
    "        print('│')\n",
    "        \n",
    "print_board(8)"
   ]
  },
  {
   "cell_type": "markdown",
   "metadata": {},
   "source": [
    "## Exercise 1\n",
    "\n",
    "Compare the number of *moves* you need (on average) in the two strategies **backtrack** and **random** before reaching the *safe* state for different values of $n$.\n",
    "In particular:\n",
    "\n",
    "- **backtrack:**\n",
    "    1. start placing the first queen in the first row of the first column;\n",
    "    1. recursively place the following queen in the first *safe* row of the following column until no more queens can be placed in a *safe* way;\n",
    "    1. (backtrack) move the last queen to the next *safe* place and restart from point 2; if no safe place is left remove the queen and repeat this point.\n",
    "- **random:**\n",
    "    1. place the first queen randomly in the first column;\n",
    "    1. place the following queen in a random *safe* place on the following column until no *safe* places are available on next column\n",
    "    1. if the number of queens on the board is less than $n$, restart from the beginning\n",
    "\n",
    "Plot the number of *moves* as a function of the number $n$ of queens.\n",
    "A *move* is defined as adding a new queen to the board (not removing it).\n",
    "\n",
    "Which is the best strategy?"
   ]
  },
  {
   "cell_type": "code",
   "execution_count": 2,
   "metadata": {},
   "outputs": [
    {
     "name": "stdout",
     "output_type": "stream",
     "text": [
      "step one\n"
     ]
    }
   ],
   "source": [
    "while True:\n",
    "    print('step one')\n",
    "    break"
   ]
  },
  {
   "cell_type": "code",
   "execution_count": 3,
   "metadata": {},
   "outputs": [],
   "source": [
    "import random\n",
    "import numpy as np\n",
    "import matplotlib.pyplot as plt"
   ]
  },
  {
   "cell_type": "markdown",
   "metadata": {},
   "source": [
    "#### helper function: is_allowed\n",
    "- it is used in backtrack and random algorithms"
   ]
  },
  {
   "cell_type": "code",
   "execution_count": 4,
   "metadata": {},
   "outputs": [],
   "source": [
    "def is_allowed(board, row, col):\n",
    "    \"\"\" Takes a number(length of one side of board) and checks if a queen can be placed on \n",
    "    given cell board[row][col] verifiying if the cell is under attack of the queens \n",
    "    in the previous columns (from 0 to col -1)\n",
    "    \"\"\"\n",
    "    # Return false if there is a queen on the left side of given row \n",
    "    for i in range(col): \n",
    "        if board[row][i] == 1: return False\n",
    "\n",
    "    # Return false if there is a queen on upper diagonal of left side \n",
    "    for i, j in zip(range(row, -1, -1), range(col, -1, -1)): \n",
    "        if board[i][j] == 1: return False\n",
    "\n",
    "    # Return false if there is a queen on lower diagonal of left side \n",
    "    for i, j in zip(range(row, board.shape[0], 1), range(col, -1, -1)): \n",
    "        if board[i][j] == 1: return False\n",
    "  \n",
    "    return True"
   ]
  },
  {
   "cell_type": "markdown",
   "metadata": {},
   "source": [
    "#### Backtrack algorithm: `n_queen_bt`"
   ]
  },
  {
   "cell_type": "code",
   "execution_count": 5,
   "metadata": {},
   "outputs": [],
   "source": [
    "def n_queen_bt(size):\n",
    "    \"\"\"calls the n_queen_backtrack to output the result of placement.\n",
    "    takes a number(lenght of one side of the board)\n",
    "    returns a tuple of a boolean (true if queens can be placed) and total number of moves\"\"\"\n",
    "    \n",
    "    # create initial board\n",
    "    board = np.zeros([size, size])\n",
    "    \n",
    "    # number of rows and cols\n",
    "    length = board.shape[1]\n",
    "    \n",
    "    # count moves\n",
    "    move_count = 0\n",
    "        \n",
    "    def backtrack(board, col):\n",
    "        \"\"\"takes a matrix(board) and a column number and returns a boolean\n",
    "        indicating if the queens can be placed or not\"\"\"\n",
    "        \n",
    "        # keep track of move count in nonlocal scope\n",
    "        nonlocal move_count\n",
    "        # increment move_count for each recursive call\n",
    "        move_count += 1\n",
    "                    \n",
    "        # If all queens are placed ie \n",
    "        # if the current column reach the end of board return true\n",
    "        if col >= length: return True\n",
    "    \n",
    "        # loop over all the rows of the given column and\n",
    "        # verify if the current queen can be placed by calling is_allowed function\n",
    "        for i in range(length): \n",
    "            # if is_allowed returns true for the current row\n",
    "            # place the current queen in board[i][col]\n",
    "            # by assigning the cell value to 1\n",
    "            if is_allowed(board, i, col): \n",
    "                board[i][col] = 1                        \n",
    "                # continue recursively placing the other queens in next cols\n",
    "                # if placement of all the queens is possible return true\n",
    "                if backtrack(board, col + 1) == True: return True\n",
    "\n",
    "                # after placing the queen in the current cell if the recursion does not \n",
    "                # output True then backtrack by assigning the cell to zero(0)and\n",
    "                # continue looping on the remaining rows \n",
    "                board[i][col] = 0\n",
    "            \n",
    "        return False\n",
    "    \n",
    "    if backtrack(board, 0) == False: \n",
    "        print (\"No solution\") \n",
    "        return False\n",
    "    \n",
    "    return True, move_count"
   ]
  },
  {
   "cell_type": "code",
   "execution_count": 6,
   "metadata": {},
   "outputs": [
    {
     "name": "stdout",
     "output_type": "stream",
     "text": [
      "[4, 5, 6, 7, 8, 9, 10, 11, 12, 13, 14, 15, 16, 17, 18, 19, 20, 21, 22, 23, 24]\n"
     ]
    }
   ],
   "source": [
    "# list of number of queens (also side of the board)\n",
    "num_queen_lst = list(range(4, 25))\n",
    "print(num_queen_lst)"
   ]
  },
  {
   "cell_type": "code",
   "execution_count": 7,
   "metadata": {},
   "outputs": [
    {
     "name": "stdout",
     "output_type": "stream",
     "text": [
      "[9, 6, 32, 10, 114, 42, 103, 53, 262, 112, 1900, 1360, 10053, 5375, 41300, 2546, 199636, 8563, 1737189, 25429, 411609]\n"
     ]
    }
   ],
   "source": [
    "# number of moves in the backtrack algorithm: n_queen_bt\n",
    "move_count_lst_bt = [n_queen_bt(num)[1] for num in num_queen_lst]\n",
    "print(move_count_lst_bt)"
   ]
  },
  {
   "cell_type": "markdown",
   "metadata": {},
   "source": [
    "#### Backtrack algorithm's moves plot"
   ]
  },
  {
   "cell_type": "code",
   "execution_count": 8,
   "metadata": {},
   "outputs": [
    {
     "data": {
      "image/png": "[encoded data removed]",
      "text/plain": [
       "<Figure size 432x288 with 1 Axes>"
      ]
     },
     "metadata": {
      "needs_background": "light"
     },
     "output_type": "display_data"
    }
   ],
   "source": [
    "# plot number of queens vs moves \n",
    "plt.plot(num_queen_lst, move_count_lst_bt)\n",
    "\n",
    "plt.xlabel(\"Number of queens\")\n",
    "plt.ylabel(\"Number of moves\")\n",
    "plt.title(\"Backtrack Algorithm\")\n",
    "plt.show()"
   ]
  },
  {
   "cell_type": "markdown",
   "metadata": {},
   "source": [
    "#### Random algorithm: `random_move_count`"
   ]
  },
  {
   "cell_type": "code",
   "execution_count": 9,
   "metadata": {},
   "outputs": [],
   "source": [
    "def random_move_count(num):\n",
    "    \"\"\"takes a number(number of queen) and counts the moves in n_queen_random function \n",
    "    till a solution can be found\n",
    "    \"\"\"\n",
    "    # count moves\n",
    "    move_count = 0\n",
    "    \n",
    "    def n_queen_random(board, col):\n",
    "        \"\"\"takes a matrix(board) and a column number and returns a boolean\n",
    "        indicating if all the queens can be placed or not\"\"\"\n",
    "        \n",
    "        # keep track of move count in nonlocal scope\n",
    "        nonlocal move_count\n",
    "        # increment move_count for each recursive call\n",
    "        move_count += 1\n",
    "        \n",
    "        # number of rows and cols\n",
    "        length = board.shape[1]\n",
    "\n",
    "        # if the number of queens on the board is equal to expected number of queens\n",
    "        # return True\n",
    "        if np.sum(board)== length: return True\n",
    "        if col > length: return False\n",
    "\n",
    "        # create a list of safe cells for the current column\n",
    "        # and choose a row randomly\n",
    "        rand_lst = []\n",
    "        for i in range(length): \n",
    "            # if is_allowed returns true for the current row\n",
    "            # add that row in rand_lst \n",
    "            if is_allowed(board, i, col):\n",
    "                rand_lst.append(i)\n",
    "\n",
    "        # if there is no safe space(empty rand_lst) return False\n",
    "        if not rand_lst: return False\n",
    "\n",
    "        # choose a random safe row\n",
    "        row_rand = random.choice(rand_lst)\n",
    "\n",
    "        # place the next queen in row_rand and assign to 1\n",
    "        board[row_rand][col] = 1            \n",
    "\n",
    "        # continue recursively placing the other queens in next cols    \n",
    "        if n_queen_random(board, col + 1) == True: return True\n",
    "        \n",
    "        return False\n",
    "\n",
    "    # while codition\n",
    "    cond = True\n",
    "    while cond:\n",
    "        board = np.zeros([num, num])\n",
    "        \n",
    "        # as long as n_queen_random outputs False loop continues\n",
    "        cond = not n_queen_random(board, 0)\n",
    "    \n",
    "    return move_count        "
   ]
  },
  {
   "cell_type": "code",
   "execution_count": 10,
   "metadata": {},
   "outputs": [
    {
     "name": "stdout",
     "output_type": "stream",
     "text": [
      "[12, 6, 136, 27, 104, 34, 61, 269, 700, 134, 533, 340, 1331, 466, 82, 34, 460, 134, 707, 24, 2961]\n"
     ]
    }
   ],
   "source": [
    "# number of moves in the random algorithm: random_move_count\n",
    "move_count_lst_rand = [random_move_count(num) for num in num_queen_lst]\n",
    "print(move_count_lst_rand)"
   ]
  },
  {
   "cell_type": "markdown",
   "metadata": {},
   "source": [
    "#### Random algorithm's plot"
   ]
  },
  {
   "cell_type": "code",
   "execution_count": 11,
   "metadata": {},
   "outputs": [
    {
     "data": {
      "image/png": "[encoded data removed]",
      "text/plain": [
       "<Figure size 432x288 with 1 Axes>"
      ]
     },
     "metadata": {
      "needs_background": "light"
     },
     "output_type": "display_data"
    }
   ],
   "source": [
    "# plot number of queens vs moves \n",
    "plt.plot(num_queen_lst, move_count_lst_rand)\n",
    "\n",
    "plt.xlabel(\"Number of queens\")\n",
    "plt.ylabel(\"Number of moves\")\n",
    "plt.title(\"Random Algorithm\")\n",
    "plt.show()"
   ]
  },
  {
   "cell_type": "markdown",
   "metadata": {},
   "source": [
    "## Write here your comments for exercise1 !!!"
   ]
  },
  {
   "cell_type": "code",
   "execution_count": 17,
   "metadata": {},
   "outputs": [],
   "source": [
    "# We can see here small number of queens, the backtracking will work pretty well if we focus on the number\n",
    "# of moves needed. When the number of queens reach 17, the random algorithm become more efficient. \n",
    "# We can also see that both methods will take more time when there is a even number of queens. "
   ]
  },
  {
   "cell_type": "markdown",
   "metadata": {},
   "source": [
    "## Exercise 2\n",
    "\n",
    "In the previous exercise the random generation of numbers is the bottleneck for the **random** strategy.\n",
    "\n",
    "Compare now the running time required by the two methods to find the *safe* state (using for example `time.time`) and plot it as a function of the number $n$ of queens.\n",
    "What changes?"
   ]
  },
  {
   "cell_type": "code",
   "execution_count": 12,
   "metadata": {},
   "outputs": [],
   "source": [
    "import time\n",
    "\n",
    "t1 = time.time()\n",
    "time_bt = []\n",
    "time_rand = []\n",
    "for num in num_queen_lst:\n",
    "    t_start_bt = time.time()\n",
    "    n_queen_bt(num)\n",
    "    t_end_bt = time.time()\n",
    "    time_bt.append(t_end_bt - t_start_bt)\n",
    "    \n",
    "    t_start_rand = time.time()\n",
    "    random_move_count(num)\n",
    "    t_end_rand = time.time()\n",
    "    time_rand.append(t_end_rand - t_start_rand)"
   ]
  },
  {
   "cell_type": "code",
   "execution_count": 13,
   "metadata": {},
   "outputs": [
    {
     "name": "stdout",
     "output_type": "stream",
     "text": [
      "Backtracking algorithm times from 4 to 24 queens: \n",
      " [0.0, 0.0, 0.0, 0.0, 0.0, 0.0, 0.00751, 0.0, 0.03279, 0.01909, 0.30615, 0.25232, 2.02552, 1.19772, 10.21864, 0.70234, 59.96334, 3.24785, 629.40607, 10.12433, 177.27982] \n",
      "\n",
      "Random algorithm times from 4 to 24 queens: \n",
      " [0.0, 0.0, 0.0, 0.01638, 0.0, 0.01563, 0.01563, 0.0, 0.01584, 0.09624, 0.02033, 0.05263, 0.05514, 0.0122, 0.05134, 0.25409, 0.16314, 0.27621, 0.28331, 0.42112, 0.52826]\n"
     ]
    }
   ],
   "source": [
    "# round the times\n",
    "round_bt_times = [round(num, 5) for num in time_bt]\n",
    "round_rand_times = [round(num, 5) for num in time_rand]\n",
    "print(\"Backtracking algorithm times from 4 to 24 queens:\", \"\\n\", round_bt_times, \"\\n\")\n",
    "print(\"Random algorithm times from 4 to 24 queens:\",\"\\n\", round_rand_times)"
   ]
  },
  {
   "cell_type": "code",
   "execution_count": 14,
   "metadata": {},
   "outputs": [
    {
     "data": {
      "image/png": "[encoded data removed]",
      "text/plain": [
       "<Figure size 432x288 with 2 Axes>"
      ]
     },
     "metadata": {
      "needs_background": "light"
     },
     "output_type": "display_data"
    }
   ],
   "source": [
    "fig, (ax1, ax2) = plt.subplots(2, sharex=True, sharey=True)\n",
    "\n",
    "ax1.plot(num_queen_lst[:10], time_bt[:10])\n",
    "ax1.set_title(\"Backtrack algorithm 4-13 queens\")\n",
    "ax1.set_ylabel(\"Time\")\n",
    "\n",
    "\n",
    "ax2.plot(num_queen_lst[:10], time_rand[:10])\n",
    "ax2.set_title(\"Random algorithm 4-13 queens\")\n",
    "ax2.set_ylabel(\"Time\");"
   ]
  },
  {
   "cell_type": "code",
   "execution_count": 15,
   "metadata": {},
   "outputs": [
    {
     "data": {
      "image/png": "[encoded data removed]",
      "text/plain": [
       "<Figure size 432x288 with 2 Axes>"
      ]
     },
     "metadata": {
      "needs_background": "light"
     },
     "output_type": "display_data"
    }
   ],
   "source": [
    "fig, (ax1, ax2) = plt.subplots(2, sharex=True, sharey=True)\n",
    "\n",
    "ax1.plot(num_queen_lst[10:], time_bt[10:])\n",
    "ax1.set_title(\"Backtrack algorithm 13-24 queens\")\n",
    "ax1.set_ylabel(\"Time\")\n",
    "\n",
    "ax2.plot(num_queen_lst[10:], time_rand[10:])\n",
    "ax2.set_title(\"Random algorithm 13-24 queens\")\n",
    "ax2.set_ylabel(\"Time\");"
   ]
  },
  {
   "cell_type": "markdown",
   "metadata": {},
   "source": [
    "### Write here your comments for exercise 2 !!!"
   ]
  },
  {
   "cell_type": "code",
   "execution_count": null,
   "metadata": {},
   "outputs": [],
   "source": [
    "# The first pair of plots show that for smaller number of queens, the backtracking will take less time to compute.\n",
    "# This is coherent because we saw at the last question that the backtracking solved the problem with less moves\n",
    "# when we have less than 17 queens. When we reach 14 queens, the backtracking start becoming very slow, with a\n",
    "# peak at 600 ms. The random algorithm stay consistent with excellent computing time. "
   ]
  },
  {
   "cell_type": "markdown",
   "metadata": {},
   "source": [
    "## Exercise 3\n",
    "\n",
    "We want to check a mixed approach: for a given number $n$ of queens, place randomly only the first half of them (reducing drastically the state space left) and search with the **backtrack** algorithm the rest of them.\n",
    "\n",
    "Compare the (average) time and number of *moves* to the previous results, how does it compare to the *pure* strategies?"
   ]
  },
  {
   "cell_type": "code",
   "execution_count": 16,
   "metadata": {},
   "outputs": [
    {
     "name": "stdout",
     "output_type": "stream",
     "text": [
      "Good luck\n"
     ]
    }
   ],
   "source": [
    "print('Good luck')"
   ]
  },
  {
   "cell_type": "markdown",
   "metadata": {},
   "source": [
    "Write here your comments"
   ]
  },
  {
   "cell_type": "code",
   "execution_count": null,
   "metadata": {},
   "outputs": [],
   "source": []
  }
 ],
 "metadata": {
  "kernelspec": {
   "display_name": "Python 3",
   "language": "python",
   "name": "python3"
  },
  "language_info": {
   "codemirror_mode": {
    "name": "ipython",
    "version": 3
   },
   "file_extension": ".py",
   "mimetype": "text/x-python",
   "name": "python",
   "nbconvert_exporter": "python",
   "pygments_lexer": "ipython3",
   "version": "3.8.3"
  }
 },
 "nbformat": 4,
 "nbformat_minor": 4
}
