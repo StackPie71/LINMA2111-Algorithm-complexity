{
 "cells": [
  {
   "cell_type": "markdown",
   "metadata": {},
   "source": [
    "Please, fill with your data:\n",
    "\n",
    "\n",
    "| Student | ID |\n",
    "|--- | --|\n",
    "|Asmaa Semmah | UCL-Id1|\n",
    "|Harun Gök | UCL-Id2|\n",
    "|Nils Boulanger| 5849-15-00|"
   ]
  },
  {
   "cell_type": "markdown",
   "metadata": {},
   "source": [
    "# Practical Homework 2 --- The Las Vegas $n$-Queens\n",
    "\n",
    "In this homework we are going to analyse the Las Vegas $n$-Queens algorithm.\n",
    "Imagine to have a $n\\times n$ chessboard and exactly $n$ queens that we want to place on the board **safely**: they should be unable to attack each other (queens can attack other pieces horizontally, vertically and diagonally at any distance).\n",
    "\n",
    "In order to find the **safe** state we have a list of strategies:\n",
    "\n",
    "- **backtrack:** the quest starts at a given state and enumerates all the states one after another.\n",
    "- **random:** at each iteration a random state is generated from zero"
   ]
  },
  {
   "cell_type": "code",
   "execution_count": 1,
   "metadata": {},
   "outputs": [
    {
     "name": "stdout",
     "output_type": "stream",
     "text": [
      "│██  ██  ██  ██  │\n",
      "│  ██  ██  ██  ██│\n",
      "│██  ██  ██  ██  │\n",
      "│  ██  ██  ██  ██│\n",
      "│██  ██  ██  ██  │\n",
      "│  ██  ██  ██  ██│\n",
      "│██  ██  ██  ██  │\n",
      "│  ██  ██  ██  ██│\n"
     ]
    }
   ],
   "source": [
    "def print_board(size=8):\n",
    "    for i in range(size):\n",
    "        print('│', end='')\n",
    "        for j in range(size // 2):\n",
    "            if i%2 == 0:\n",
    "                print('██  ', end='')\n",
    "            else:\n",
    "                print('  ██', end='')\n",
    "        print('│')\n",
    "        \n",
    "print_board(8)"
   ]
  },
  {
   "cell_type": "markdown",
   "metadata": {},
   "source": [
    "## Exercise 1\n",
    "\n",
    "Compare the number of *moves* you need (on average) in the two strategies **backtrack** and **random** before reaching the *safe* state for different values of $n$.\n",
    "In particular:\n",
    "\n",
    "- **backtrack:**\n",
    "    1. start placing the first queen in the first row of the first column;\n",
    "    1. recursively place the following queen in the first *safe* row of the following column until no more queens can be placed in a *safe* way;\n",
    "    1. (backtrack) move the last queen to the next *safe* place and restart from point 2; if no safe place is left remove the queen and repeat this point.\n",
    "- **random:**\n",
    "    1. place the first queen randomly in the first column;\n",
    "    1. place the following queen in a random *safe* place on the following column until no *safe* places are available on next column\n",
    "    1. if the number of queens on the board is less than $n$, restart from the beginning\n",
    "\n",
    "Plot the number of *moves* as a function of the number $n$ of queens.\n",
    "A *move* is defined as adding a new queen to the board (not removing it).\n",
    "\n",
    "Which is the best strategy?"
   ]
  },
  {
   "cell_type": "code",
   "execution_count": 14,
   "metadata": {},
   "outputs": [
    {
     "name": "stdout",
     "output_type": "stream",
     "text": [
      "step one\n"
     ]
    }
   ],
   "source": [
    "while True:\n",
    "    print('step one')\n",
    "    break"
   ]
  },
  {
   "cell_type": "code",
   "execution_count": 2,
   "metadata": {},
   "outputs": [],
   "source": [
    "# Backtrack\n",
    "import numpy as np\n",
    "import copy\n",
    "\n",
    "def possible(grid, y, x): #is it possible to place a queen into y,x?\n",
    "    for i in range(8): #check for queens on row y\n",
    "        if grid[y][i]==1: #if exist return false\n",
    "            return False\n",
    "    for i in range(8):  #check for queens on column x\n",
    "        if grid[i][x]==1: #if exists return 0\n",
    "            return False\n",
    "        \n",
    "    for i in range(8): #loop through all rows\n",
    "        for j in range(8): #and columns\n",
    "            if grid[i][j]==1: #if there is a queen\n",
    "                if abs(i - y) == abs(j - x): #and if there is another on a diagonal\n",
    "                    return False #return false\n",
    "    return True #if every check clears, we can return true"
   ]
  },
  {
   "cell_type": "code",
   "execution_count": 17,
   "metadata": {},
   "outputs": [
    {
     "data": {
      "text/plain": [
       "[[1, 0, 0, 0, 0, 0, 0, 0],\n",
       " [0, 0, 0, 0, 0, 0, 1, 0],\n",
       " [0, 0, 0, 0, 1, 0, 0, 0],\n",
       " [0, 0, 0, 0, 0, 0, 0, 1],\n",
       " [0, 1, 0, 0, 0, 0, 0, 0],\n",
       " [0, 0, 0, 1, 0, 0, 0, 0],\n",
       " [0, 0, 0, 0, 0, 1, 0, 0],\n",
       " [0, 0, 1, 0, 0, 0, 0, 0]]"
      ]
     },
     "execution_count": 17,
     "metadata": {},
     "output_type": "execute_result"
    }
   ],
   "source": [
    "# Backtrack\n",
    "# Python program to solve N Queen \n",
    "# Problem using backtracking \n",
    "\n",
    "global N \n",
    "N = 8\n",
    "\n",
    "def printSolution(board): \n",
    "    for i in range(N): \n",
    "        for j in range(N): \n",
    "            print(board[i][j]) \n",
    "        print('')\n",
    "\n",
    "# A utility function to check if a queen can \n",
    "# be placed on board[row][col]. Note that this \n",
    "# function is called when \"col\" queens are \n",
    "# already placed in columns from 0 to col -1. \n",
    "# So we need to check only left side for \n",
    "# attacking queens \n",
    "def isSafe(board, row, col): \n",
    "    # Check this row on left side \n",
    "    for i in range(col): \n",
    "        if board[row][i] == 1: \n",
    "            return False\n",
    "\n",
    "    # Check upper diagonal on left side \n",
    "    for i, j in zip(range(row, -1, -1), range(col, -1, -1)): \n",
    "        if board[i][j] == 1: \n",
    "            return False\n",
    "\n",
    "    # Check lower diagonal on left side \n",
    "    for i, j in zip(range(row, N, 1), range(col, -1, -1)): \n",
    "        if board[i][j] == 1: \n",
    "            return False\n",
    "\n",
    "    return True\n",
    "\n",
    "def solveNQUtil(board, col): \n",
    "    # base case: If all queens are placed \n",
    "    # then return true \n",
    "    if col >= N: \n",
    "        return True\n",
    "\n",
    "    # Consider this column and try placing \n",
    "    # this queen in all rows one by one \n",
    "    for i in range(N): \n",
    "\n",
    "        if isSafe(board, i, col): \n",
    "            # Place this queen in board[i][col] \n",
    "            board[i][col] = 1\n",
    "\n",
    "            # recur to place rest of the queens \n",
    "            if solveNQUtil(board, col + 1) == True: \n",
    "                return True\n",
    "\n",
    "            # If placing queen in board[i][col \n",
    "            # doesn't lead to a solution, then \n",
    "            # queen from board[i][col] \n",
    "            board[i][col] = 0\n",
    "\n",
    "    # if the queen can not be placed in any row in \n",
    "    # this colum col then return false \n",
    "    return False\n",
    "\n",
    "# This function solves the N Queen problem using \n",
    "# Backtracking. It mainly uses solveNQUtil() to \n",
    "# solve the problem. It returns false if queens \n",
    "# cannot be placed, otherwise return true and \n",
    "# placement of queens in the form of 1s. \n",
    "# note that there may be more than one \n",
    "# solutions, this function prints one of the \n",
    "# feasible solutions. \n",
    "def solveNQ(): \n",
    "    board = np.zeros([N,N],dtype=int)\n",
    "    board = board.tolist() \n",
    "\n",
    "    if solveNQUtil(board, 0) == False: \n",
    "        print(\"Solution does not exist\")\n",
    "        return False\n",
    "\n",
    "    #printSolution(board) \n",
    "    return board\n",
    "\n",
    "# driver program to test above function \n",
    "solution = solveNQ() \n",
    "solution"
   ]
  },
  {
   "cell_type": "code",
   "execution_count": 12,
   "metadata": {},
   "outputs": [],
   "source": [
    "# Random"
   ]
  },
  {
   "cell_type": "markdown",
   "metadata": {},
   "source": [
    "Write here your comments"
   ]
  },
  {
   "cell_type": "markdown",
   "metadata": {},
   "source": [
    "## Exercise 2\n",
    "\n",
    "In the previous exercise the random generation of numbers is the bottleneck for the **random** strategy.\n",
    "\n",
    "Compare now the running time required by the two methods to find the *safe* state (using for example `time.time`) and plot it as a function of the number $n$ of queens.\n",
    "What changes?"
   ]
  },
  {
   "cell_type": "code",
   "execution_count": 15,
   "metadata": {},
   "outputs": [
    {
     "name": "stdout",
     "output_type": "stream",
     "text": [
      "step one\n",
      "0.00017261505126953125\n"
     ]
    }
   ],
   "source": [
    "import time\n",
    "\n",
    "t1 = time.time()\n",
    "while True:\n",
    "    print('step one')\n",
    "    break\n",
    "print(time.time() - t1)"
   ]
  },
  {
   "cell_type": "markdown",
   "metadata": {},
   "source": [
    "Write here your comments"
   ]
  },
  {
   "cell_type": "markdown",
   "metadata": {},
   "source": [
    "## Exercise 3\n",
    "\n",
    "We want to check a mixed approach: for a given number $n$ of queens, place randomly only the first half of them (reducing drastically the state space left) and search with the **backtrack** algorithm the rest of them.\n",
    "\n",
    "Compare the (average) time and number of *moves* to the previous results, how does it compare to the *pure* strategies?"
   ]
  },
  {
   "cell_type": "code",
   "execution_count": 4,
   "metadata": {},
   "outputs": [
    {
     "name": "stdout",
     "output_type": "stream",
     "text": [
      "Good luck\n"
     ]
    }
   ],
   "source": [
    "print('Good luck')"
   ]
  },
  {
   "cell_type": "markdown",
   "metadata": {},
   "source": [
    "Write here your comments"
   ]
  }
 ],
 "metadata": {
  "kernelspec": {
   "display_name": "Python 3",
   "language": "python",
   "name": "python3"
  },
  "language_info": {
   "codemirror_mode": {
    "name": "ipython",
    "version": 3
   },
   "file_extension": ".py",
   "mimetype": "text/x-python",
   "name": "python",
   "nbconvert_exporter": "python",
   "pygments_lexer": "ipython3",
   "version": "3.8.3"
  }
 },
 "nbformat": 4,
 "nbformat_minor": 4
}
