{
 "cells": [
  {
   "cell_type": "code",
   "execution_count": 12,
   "metadata": {},
   "outputs": [],
   "source": [
    "import random"
   ]
  },
  {
   "cell_type": "code",
   "execution_count": 66,
   "metadata": {},
   "outputs": [],
   "source": [
    "def insertion_sort(A):\n",
    "    \"\"\"Implementation of the insertion sort alogorithm. \n",
    "    Return the elements of A such that a_1 < ... < a_n.\"\"\"\n",
    "    \n",
    "    for j in range(1, len(A)):    #We start at 1 because the subarray containing 1 value (A[0]) is already sorted\n",
    "        key = A[j]\n",
    "        i = j-1\n",
    "        while i >= 0 and A[i] > key:\n",
    "            A[i+1] = A[i]\n",
    "            i = i-1\n",
    "        A[i+1] = key\n",
    "        \n",
    "    return A"
   ]
  },
  {
   "cell_type": "code",
   "execution_count": 68,
   "metadata": {},
   "outputs": [
    {
     "name": "stdout",
     "output_type": "stream",
     "text": [
      "[1, 7, 4, 10, 6, 8, 5, 3, 2, 9]\n",
      "[1, 2, 3, 4, 5, 6, 7, 8, 9, 10]\n"
     ]
    }
   ],
   "source": [
    "randomlist = random.sample(range(1, 11), 10)\n",
    "print(randomlist)\n",
    "sortedlist = insertion_sort(randomlist)\n",
    "print(sortedlist)"
   ]
  },
  {
   "cell_type": "code",
   "execution_count": 86,
   "metadata": {},
   "outputs": [],
   "source": [
    "def insertion_sort_inv(A):\n",
    "    \"\"\"Implementation of the insertion sort alogorithm. \n",
    "    Return the elements of A such that a_1 > ... > a_n.\"\"\"\n",
    "    \n",
    "    for j in range(1, len(A)):    #We start at 1 because the subarray containing 1 value (A[0]) is already sorted\n",
    "        key = A[j]\n",
    "        i = j-1\n",
    "        while i >= 0 and A[i] < key:\n",
    "            A[i+1] = A[i]\n",
    "            i = i-1\n",
    "        A[i+1] = key\n",
    "        \n",
    "    return A"
   ]
  },
  {
   "cell_type": "code",
   "execution_count": 91,
   "metadata": {},
   "outputs": [
    {
     "name": "stdout",
     "output_type": "stream",
     "text": [
      "[6, 7, 9, 10, 2, 1, 5, 4, 3, 8]\n",
      "[10, 9, 8, 7, 6, 5, 4, 3, 2, 1]\n"
     ]
    }
   ],
   "source": [
    "randomlist = random.sample(range(1, 11), 10)\n",
    "print(randomlist)\n",
    "sortedlist = insertion_sort_inv(randomlist)\n",
    "print(sortedlist)"
   ]
  }
 ],
 "metadata": {
  "kernelspec": {
   "display_name": "Python 3",
   "language": "python",
   "name": "python3"
  },
  "language_info": {
   "codemirror_mode": {
    "name": "ipython",
    "version": 3
   },
   "file_extension": ".py",
   "mimetype": "text/x-python",
   "name": "python",
   "nbconvert_exporter": "python",
   "pygments_lexer": "ipython3",
   "version": "3.8.3"
  }
 },
 "nbformat": 4,
 "nbformat_minor": 4
}
