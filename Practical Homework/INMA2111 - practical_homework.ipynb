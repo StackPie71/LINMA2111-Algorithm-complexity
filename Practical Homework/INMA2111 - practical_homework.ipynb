{
 "cells": [
  {
   "cell_type": "markdown",
   "metadata": {},
   "source": [
    "Please, fill your data\n",
    "\n",
    "| Student | NOMA |\n",
    "|--- | |\n",
    "|Nils Boulanger| 58491500|\n",
    "|Harun Gök| 82031900|\n",
    "|Asmaa Semmah| 73111500|\n",
    "\n",
    "Please make sure to read carrefully the statement and the questions. You can create new cells (markdown or code) if you need it to answer questions.  <br>\n",
    "Finally, don't hesitate to ask questions on the Moodle Forum. <br>\n",
    "The deadline is Thursday, November 12."
   ]
  },
  {
   "cell_type": "markdown",
   "metadata": {},
   "source": [
    "# Context\n",
    "You are the boss of the Amazing Glass Cutters company. You have a plenty of commands that you need to cut from your standard glass panes that measure 2440x2440 $mm$. The measures are given in millimeter for precision. Commands are supposed to correspond to rectangles (with maximum length of 2440 $mm$). <br>\n",
    "To minimize the loss of glass when preparing the commands, you should solve a difficult optimization problem: the 2D bin packing problem. This latter is NP-complete and you don't have qualified personal for searching good heuristic for solving the problem. You hire a consultance group for working on that problem. <br>\n",
    "You are waiting for their answer in a few months, but you need a simple solution right now! Also, it will allow you to see if the price you pay the consultance group is worth it or not...  <br>\n",
    "Therefore, you try a simpler approach proposed by your intern who has just come back from his algorithmic course:\n",
    "\n",
    "You will search, if possible, for two commands of glass that fill completely the length (or the width) of your standard glass pane. According to the opinion of your intern, it can be done efficiently. <br>\n",
    "It is obviously not solving the problem totally but it is a first step allowing you to cuts at least some commands efficiently. Since you don't have any other idea (sadly), you will implement an algorithm to solve this problem with your intern. Decide which of you is the intern and which of you is the boss. \n",
    "\n",
    "# The problem\n",
    "You consider a list with the length and the width of each command (in mm).  <br>\n",
    "\n",
    "``` commands = [list of lengths,  list of widths] ```\n",
    "\n",
    "You need to find two elements in the list that sums up to 2440. Of course, you still need to check that the two elements you have found correspond to two different commands and are not the length and the width of the same command.\n",
    "\n",
    "The lists for the problem are randomly initialized below. All the package you need are already imported in the corresponding cells."
   ]
  },
  {
   "cell_type": "code",
   "execution_count": 9,
   "metadata": {},
   "outputs": [
    {
     "name": "stdout",
     "output_type": "stream",
     "text": [
      "Length of the first commands: [677, 1631, 691, 1629, 2185, 397, 1987, 2386, 2239, 1780]\n",
      "Width of the first commands: [1950, 176, 2406, 2327, 375, 2361, 1823, 2048, 1070, 395]\n",
      "2166 200\n",
      "range(0, 200)\n"
     ]
    }
   ],
   "source": [
    "import random \n",
    "\n",
    "def generate_com(size,nb_com,verbose = 1):\n",
    "    len_list = []\n",
    "    width_list = []\n",
    "    for i in range(0,nb_com):\n",
    "        len_list.append(random.randint(1,size))\n",
    "        width_list.append(random.randint(1,size))\n",
    "    if verbose:\n",
    "        print(\"Length of the first commands:\",len_list[0:10])\n",
    "        print(\"Width of the first commands:\", width_list[0:10])\n",
    "\n",
    "    return (len_list, width_list)\n",
    "        \n",
    "# Standard size of your glass panes\n",
    "size = 2440\n",
    "# list of length and width of the commands\n",
    "nb_com = 100\n",
    "(len_list, width_list) = generate_com(size,nb_com)\n",
    "commands = len_list + width_list\n",
    "print(commands[199], len(commands))\n",
    "print(range(0,200))"
   ]
  },
  {
   "cell_type": "markdown",
   "metadata": {},
   "source": [
    "### 1. Naive Approach (1 pt)"
   ]
  },
  {
   "cell_type": "markdown",
   "metadata": {},
   "source": [
    "Implement a naive function that solves the problem by testing all possible pairs of elements.\n",
    "The function ```naive_sum_search``` should repesect the specification given below."
   ]
  },
  {
   "cell_type": "code",
   "execution_count": 11,
   "metadata": {},
   "outputs": [
    {
     "name": "stdout",
     "output_type": "stream",
     "text": [
      "No pair found\n"
     ]
    }
   ],
   "source": [
    "def naive_sum_search(A, sum):\n",
    "    \"\"\" \n",
    "    naive_sum_search function returns a pair of indices (i,j) of the list A such that A[i] + A[j] = sum. \n",
    "    A is a list of positive integers of size n (n is supposed even). \n",
    "    The first n/2 elements of A are the length of the commands and the last n/2 elements are the width of the commands. \n",
    "    Make sure your pair (i,j) represents two different commands.\n",
    "    If no such pair exist the function should return (-1,-1)\n",
    "    \"\"\"\n",
    "    \n",
    "    # TO DO\n",
    "    pair1, pair2 = -1, -1\n",
    "    for i in range(0,len(A)) : \n",
    "        for j in range(0, len(A)) : \n",
    "            if A[i] + A[j] == sum and i+len(A)/2 != j and i!=j: \n",
    "                pair1 = i\n",
    "                pair2 = j\n",
    "                break\n",
    "        if pair1 >0 and pair2>0: \n",
    "            break\n",
    "    return (pair1,pair2)\n",
    "\n",
    "# pair of indices\n",
    "(c1, c2) = naive_sum_search(commands, size)\n",
    "if (c1,c2)==(-1,-1):\n",
    "    print(\"No pair found\")\n",
    "else:\n",
    "    print(\"You should combine commands\", c1%nb_com,\" and \", c2%nb_com)\n",
    "    print(\"Indeed,\", commands[c1],\"+\", commands[c2],\" equal\", commands[c1]+commands[c2],c1,c2)\n"
   ]
  },
  {
   "cell_type": "raw",
   "metadata": {},
   "source": [
    "What is the worst-case complexity of your algorithm ? <br>\n",
    "Answer : Brute force search O(n^2) #justify later "
   ]
  },
  {
   "cell_type": "markdown",
   "metadata": {},
   "source": [
    "### 2. Using a suitable data structure (4 pts)"
   ]
  },
  {
   "cell_type": "markdown",
   "metadata": {},
   "source": [
    "To improve the complexity of your naive algorithm, you can use a [dictionary abstract data type](https://www.eecs.umich.edu/courses/eecs281/f04/lecnotes/05-Dictionary%20ADT-v2.pdf). This allows you to store (key, value) pairs and to search for a specific key. In that way, when you loop into the array of commands, you can search into the dictionary for another command that sums with the current one to give the exact size of the glass pane. If no pair is found with the current command, this latter is added to the dictionary (to match with future commands).\n",
    "\n",
    "Let us try and compare two different data structures to implement a dictionary abstract data type: the red-black tree and the hash table.\n",
    "\n",
    "**2.1 Red Black Tree (2 pts)** <br>\n",
    "The first data-strucutre we try for implementing a dictionary is the [Red-Black Tree](https://en.wikipedia.org/wiki/Red%E2%80%93black_tree). It is a kind of self-balancing binary search tree. Each node has a specific color (red or black) that is used to ensure that the tree remains approximately balanced during insertions and deletions. \n",
    "\n",
    "Insertion, Deletion and Search into Red-Black-Tree are performed in $O(\\log k)$ (where $k$ denotes the number of elements in the tree).\n",
    "\n",
    "We will use the implementation from package ```bintrees``` that you can install with the command below."
   ]
  },
  {
   "cell_type": "code",
   "execution_count": 7,
   "metadata": {},
   "outputs": [
    {
     "name": "stdout",
     "output_type": "stream",
     "text": [
      "Requirement already satisfied: bintrees in c:\\users\\nilsb\\anaconda3\\lib\\site-packages (2.1.0)\n"
     ]
    }
   ],
   "source": [
    "# Install a pip package in the current Jupyter kernel\n",
    "import sys\n",
    "!{sys.executable} -m pip install bintrees"
   ]
  },
  {
   "cell_type": "markdown",
   "metadata": {},
   "source": [
    "Implement a function that solves the problem by using a Red-Black Tree.\n",
    "The function ```BST_sum_search``` should repesect the specification given below."
   ]
  },
  {
   "cell_type": "code",
   "execution_count": 6,
   "metadata": {},
   "outputs": [
    {
     "name": "stdout",
     "output_type": "stream",
     "text": [
      "No pair found\n"
     ]
    }
   ],
   "source": [
    "import bintrees as bt\n",
    "\n",
    "def BST_sum_search(A, sum):\n",
    "    \"\"\" \n",
    "    BST_sum_search function returns a pair of indices (i,j) of the list A such that A[i] + A[j] = sum. \n",
    "    A is a list of positive integers of size n (n is supposed even). \n",
    "    The first n/2 elements of A are the length of the commands and the last n/2 elements are the width of the commands. \n",
    "    Make sure your pair (i,j) represents two different commands.\n",
    "    If no such pair exist the function should return (-1,-1)\n",
    "    \"\"\"\n",
    "    #construction a red black tree, the node are ordered by the value of their length/width \n",
    "    T = bt.RBTree()\n",
    "    for i in range(len(A)) :\n",
    "        T.insert(A[i],i)\n",
    "\n",
    "    node = T._root\n",
    "    ind1, ind2 = -1, -1\n",
    "    for i in range(len(A)) : \n",
    "        #start searching its match in the RBT construced above \n",
    "        while node is not None : \n",
    "            if  A[i] + node.key ==sum:\n",
    "                ind1 = i\n",
    "                ind2 = node.value\n",
    "                break\n",
    "            elif A[i] + node.key > sum :\n",
    "                node = node.left\n",
    "            elif A[i] + node.key < sum :  \n",
    "                node = node.right\n",
    "        if node is None : \n",
    "            node = T._root\n",
    "            pass \n",
    "        if ind2>0 : \n",
    "            break\n",
    "    return (ind1,ind2)\n",
    "\n",
    "# pair of indices\n",
    "(c1, c2) = BST_sum_search(commands, size)\n",
    "\n",
    "if (c1,c2)==(-1,-1):\n",
    "    print(\"No pair found\")\n",
    "else:\n",
    "    print(\"You should combine commands\", c1%nb_com,\" and \", c2%nb_com)\n",
    "    print(\"Indeed,\", commands[c1],\"+\", commands[c2],\" equal\", size)"
   ]
  },
  {
   "cell_type": "markdown",
   "metadata": {},
   "source": [
    "What is the worst-case complexity of your algorithm ? <br>\n",
    "Answer : search is in O(log(n)) and worst case we do it n times, justify later\n",
    "https://www.geeksforgeeks.org/red-black-tree-set-1-introduction-2/"
   ]
  },
  {
   "cell_type": "markdown",
   "metadata": {},
   "source": [
    "**2.2 Hash Tables (2 pts)** <br>\n",
    "\n",
    "A [hash table](https://en.wikipedia.org/wiki/Hash_table) is a data structure that can map keys to values. It basically makes use of a function that computes an index value that in turn holds the elements to be searched, inserted, removed, etc. This allows quick and easy access to data. In general, hash tables store key-value pairs and the key is generated using a hash function.\n",
    "\n",
    "Insertion, Deletion and Search into hash tables are performed in $O(1)$ expected time (where $k$ denotes the number of elements in the hash table). The deterministic worst-case of the hash-table occurs when all the keys are mapped into the same index (which is a collision) and is $O(k)$. But, the hash function is chosen to limit the collisions in expectation and therefore the worst-case complexity in expectation is well $O(1)$. \n",
    "\n",
    "See the following links for details about hash tables: <br>\n",
    "https://en.wikipedia.org/wiki/Hash_table <br>\n",
    "http://homepage.divms.uiowa.edu/~kvaradar/fall2012/hashtables.pdf <br>\n",
    "\n",
    "Dictionaries in python are actually implemented with hash tables. Modify your previous solution to replace the binary search tree by a hash table (i.e. a dictionary)."
   ]
  },
  {
   "cell_type": "code",
   "execution_count": 5,
   "metadata": {},
   "outputs": [
    {
     "name": "stdout",
     "output_type": "stream",
     "text": [
      "No pair found\n"
     ]
    }
   ],
   "source": [
    "def hashtable_sum_search(A, sum):\n",
    "    \"\"\" \n",
    "    hashtable_sum_search function returns a pair of indices (i,j) of the list A such that A[i] + A[j] = sum. \n",
    "    A is a list of positive integers of size n (n is supposed even). \n",
    "    The first n/2 elements of A are the length of the commands and the last n/2 elements are the width of the commands. \n",
    "    Make sure your pair (i,j) represents two different commands.\n",
    "    If no such pair exist the function should return (-1,-1)\n",
    "    \"\"\"\n",
    "    \n",
    "    #construct dictionnary (Python form of hashtable)\n",
    "    D = {}\n",
    "    ind1, ind2 = -1,-1\n",
    "    for i in range(len(A)) : #insertion\n",
    "        D.update({A[i]:i})\n",
    "    for i in range(len(A)) : \n",
    "        #start searching its match in the Hashtable construced above \n",
    "        if  D.get(sum-A[i]) is not None :\n",
    "                ind1 = i\n",
    "                ind2 = D.get(sum-A[i])\n",
    "                break\n",
    "           \n",
    "        if ind2>0 : \n",
    "            break\n",
    "    return (ind1,ind2)\n",
    "\n",
    "# pair of indices\n",
    "(c1, c2) = hashtable_sum_search(commands, size)\n",
    "\n",
    "if (c1,c2)==(-1,-1):\n",
    "    print(\"No pair found\")\n",
    "else:\n",
    "    print(\"You should combine commands\", c1%nb_com,\" and \", c2%nb_com)\n",
    "    print(\"Indeed,\", commands[c1],\"+\", commands[c2],\" equal\", size)"
   ]
  },
  {
   "cell_type": "markdown",
   "metadata": {},
   "source": [
    "What is the worst-case complexity of your algorithm (in expectation) ? <br>"
   ]
  },
  {
   "cell_type": "markdown",
   "metadata": {},
   "source": [
    "### 3. Complexity Comparison (2 pts)\n",
    "\n",
    "- Run an experiment to compare the execution time of each method. \n",
    "- Use the function ```time.time()```.\n",
    "- Set ```size``` to 2440000 and make the number of commands vary **between 0 and 1000** (by step of 50 or 100).\n",
    "- For each value, run the experiment at least **50 or 100** times and **average the execution time of each method**.\n",
    "- Make a plot of your results and comment.\n",
    "\n",
    "Compare the advantages and drawbacks of a Red-Black-Tree versus a hash table."
   ]
  },
  {
   "cell_type": "markdown",
   "metadata": {},
   "source": [
    "**Note**: The value 2440000 for```size``` can be seen as the same as before but in micrometer. This choice is mainly for avoiding having too tiny execution time. You can change the parameters to obtains other interesting (or better) plots."
   ]
  },
  {
   "cell_type": "code",
   "execution_count": 10,
   "metadata": {},
   "outputs": [
    {
     "data": {
      "image/png": "[encoded data removed]",
      "text/plain": [
       "<Figure size 432x288 with 1 Axes>"
      ]
     },
     "metadata": {
      "needs_background": "light"
     },
     "output_type": "display_data"
    }
   ],
   "source": [
    "import matplotlib.pyplot as plt\n",
    "import time\n",
    "\n",
    "size = 2440000\n",
    "# list of number of commands\n",
    "num_comd_lst = list(range(100,1000,100))\n",
    "\n",
    "# list of list of length and width of the commands\n",
    "commands_lst = []\n",
    "for num in num_comd_lst:\n",
    "    (len_lst, width_lst) = generate_com(size,num,verbose=0) \n",
    "    commands_lst.append(len_lst + width_lst)\n",
    "\n",
    "def execution_time(alg,cmds,summ):\n",
    "    \"\"\"takes a search function, a list(commands) and a number(size)\n",
    "    returns a list of times in which each element indicates the execution time of\n",
    "    given function for given commands and size\n",
    "    \"\"\"\n",
    "    start_time = time.time()\n",
    "    for _i in range(50):\n",
    "        alg(cmds,summ)\n",
    "    end_time = time.time()\n",
    "    return end_time - start_time\n",
    "\n",
    "# algorithms list as functions\n",
    "alg_lst = [naive_sum_search, BST_sum_search, hashtable_sum_search]\n",
    "\n",
    "def avg_times(func_lst):\n",
    "    \"\"\"takes list of functions and return avarage execution time of each function\"\"\"\n",
    "    times = []\n",
    "    for func in func_lst:\n",
    "        #execution times of the current function for given commands and size\n",
    "        exec_times = [execution_time(func,cmds,size) for cmds in commands_lst]\n",
    "        average_time = sum(exec_times)/len(exec_times)\n",
    "        times.append(average_time)\n",
    "    return times\n",
    "\n",
    "# run avg_times and get the average times for algorithms\n",
    "avg_times = avg_times(alg_lst)\n",
    "\n",
    "#plot average times \n",
    "plt.plot(['Naive search', 'BST search', 'Hashtable searh'], avg_times)\n",
    "#plt.xlabel(\"Algorithms\")\n",
    "plt.ylabel(\"Execution time\")\n",
    "plt.title(\"Complexity comparison\")\n",
    "plt.show()"
   ]
  },
  {
   "cell_type": "markdown",
   "metadata": {},
   "source": [
    "#### TO-DO!\n",
    "Compare the advantages and drawbacks of a Red-Black-Tree versus a hash table."
   ]
  },
  {
   "cell_type": "markdown",
   "metadata": {},
   "source": [
    "# What if we want to combine any number of commands on a glass pane ? \n",
    "**(4 pts)**"
   ]
  },
  {
   "cell_type": "markdown",
   "metadata": {},
   "source": [
    "Since your simple solution is working well, you want to look for a little more sophistication. \n",
    "You would like to find a subset of commands that can be combined (either on their length or on their width) to be exactly 2440mm long. The subset can contain any number of commands (and not only 2 as it was the case in the previous problem).\n",
    "\n",
    "To find a subset of commands that can be arranged to fill exactly the ```size``` of the standard pane, you can divide the problem into subproblems (top-down): <br>\n",
    "A command ```c``` can either: <br>\n",
    "&emsp; (1) be part of the subset on its length; in that case, you need to find a subset that sums to ```size - length(c)``` in the set of commands without ```c```. <br>\n",
    "&emsp; (2) be part of the subset on its width; in that case, you need to find a subset that sums to ```size - width(c)``` in the set of commands without ```c```. <br>\n",
    "&emsp; (3) be excluded from the subset; you need to find a subset that sums to ```size``` in the set of command without ```c```.\n",
    "\n",
    "To avoid recomputing solution to subproblems that have already occurred, you should make use of a hash table in order to store the results of each subproblem you encounter. This is the principle of [memoization](https://en.wikipedia.org/wiki/Memoization).\n",
    "\n",
    "Don't forget to think about the base cases that are the solutions for the very basic versions of the problem and that allow to stop the recursion."
   ]
  },
  {
   "cell_type": "code",
   "execution_count": 14,
   "metadata": {},
   "outputs": [
    {
     "name": "stdout",
     "output_type": "stream",
     "text": [
      "No arrangement found\n"
     ]
    }
   ],
   "source": [
    "def sum_search(L, W, last, sum, lookup):\n",
    "    \"\"\" \n",
    "    INPUTS:\n",
    "        L and W are two list of positive integers of same size last+1 \n",
    "        (i.e. 'last' is the index of the last element of the lists).\n",
    "        sum is a positive integer\n",
    "    OUTPUTS:\n",
    "        sum_search function returns two list of indices (idx1, idx2).\n",
    "        An indice can only appear one time in these lists.\n",
    "        We should have that Sum(L[idx1]) + Sum(W[idx2]) = sum\n",
    "        If no such indices exist, the function should return None\n",
    "    \"\"\"\n",
    "    \n",
    "    # TO DO\n",
    "    \n",
    "    # BASE cases\n",
    "    \n",
    "    # DIVISION (in 3 cases)\n",
    "\n",
    "    return None\n",
    "\n",
    "\n",
    "sum_set = sum_search(len_list, width_list, len(len_list) - 1, size, dict())\n",
    "if sum_set is None:\n",
    "    print(\"No arrangement found\")\n",
    "else:        \n",
    "    print(\"Select the following commands (in their length):\",sum_set[0])\n",
    "    print(\"Select also the following commands (in their width):\", sum_set[1])\n",
    "    total = 0\n",
    "    for i in sum_set[0]:\n",
    "        total = total + len_list[i]\n",
    "    for j in sum_set[1]:\n",
    "        total = total + width_list[j]\n",
    "    print(\"Total length of this arrangement is\",total)"
   ]
  },
  {
   "cell_type": "markdown",
   "metadata": {},
   "source": [
    "What is the worst-case complexity of this method ? Comment."
   ]
  },
  {
   "cell_type": "markdown",
   "metadata": {},
   "source": [
    "Why is it said that this method uses the top-down approach ? <br>\n",
    "Can you give the idea of a method that solves the problem using the bottom-up approach ?"
   ]
  }
 ],
 "metadata": {
  "kernelspec": {
   "display_name": "Python 3",
   "language": "python",
   "name": "python3"
  },
  "language_info": {
   "codemirror_mode": {
    "name": "ipython",
    "version": 3
   },
   "file_extension": ".py",
   "mimetype": "text/x-python",
   "name": "python",
   "nbconvert_exporter": "python",
   "pygments_lexer": "ipython3",
   "version": "3.8.3"
  }
 },
 "nbformat": 4,
 "nbformat_minor": 4
}
